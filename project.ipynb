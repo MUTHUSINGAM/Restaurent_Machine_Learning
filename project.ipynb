{
 "cells": [
  {
   "cell_type": "code",
   "execution_count": 7,
   "metadata": {},
   "outputs": [
    {
     "name": "stdout",
     "output_type": "stream",
     "text": [
      "Mean Squared Error: 1.6764802747031442\n",
      "R-squared: 0.2634446409021949\n",
      "Predictions on new data Rating: [3.22701821]\n",
      "Mean Squared Error: 1.6764802747031442\n",
      "R-squared: 0.2634446409021949\n"
     ]
    },
    {
     "name": "stderr",
     "output_type": "stream",
     "text": [
      "C:\\Users\\MUTHUSINGAM N\\AppData\\Local\\Temp\\ipykernel_10976\\4154733236.py:18: SettingWithCopyWarning: \n",
      "A value is trying to be set on a copy of a slice from a DataFrame.\n",
      "Try using .loc[row_indexer,col_indexer] = value instead\n",
      "\n",
      "See the caveats in the documentation: https://pandas.pydata.org/pandas-docs/stable/user_guide/indexing.html#returning-a-view-versus-a-copy\n",
      "  X['Has Table booking'] = X['Has Table booking'].map({'Yes': 1, 'No': 0})\n",
      "C:\\Users\\MUTHUSINGAM N\\AppData\\Local\\Temp\\ipykernel_10976\\4154733236.py:19: SettingWithCopyWarning: \n",
      "A value is trying to be set on a copy of a slice from a DataFrame.\n",
      "Try using .loc[row_indexer,col_indexer] = value instead\n",
      "\n",
      "See the caveats in the documentation: https://pandas.pydata.org/pandas-docs/stable/user_guide/indexing.html#returning-a-view-versus-a-copy\n",
      "  X['Has Online delivery'] = X['Has Online delivery'].map({'Yes': 1, 'No': 0})\n"
     ]
    }
   ],
   "source": [
    "import pandas as pd\n",
    "from sklearn.model_selection import train_test_split\n",
    "from sklearn.linear_model import LinearRegression\n",
    "from sklearn.metrics import mean_squared_error, r2_score\n",
    "from sklearn.preprocessing import StandardScaler\n",
    "from sklearn.pipeline import Pipeline\n",
    "\n",
    "# Step 1: Load your dataset \n",
    "data = pd.read_csv('Dataset .csv')\n",
    "\n",
    "# Step 2: Select relevant features and target variable\n",
    "\n",
    "X = data[['Average Cost for two', 'Has Table booking', 'Has Online delivery', 'Price range', 'Votes']]\n",
    "y = data['Aggregate rating']\n",
    "\n",
    "# Step 3: Preprocess the data\n",
    "\n",
    "X['Has Table booking'] = X['Has Table booking'].map({'Yes': 1, 'No': 0})\n",
    "X['Has Online delivery'] = X['Has Online delivery'].map({'Yes': 1, 'No': 0})\n",
    "\n",
    "# Step 4: Split data into training and testing sets\n",
    "X_train, X_test, y_train, y_test = train_test_split(X, y, test_size=0.2, random_state=42)\n",
    "\n",
    "# Step 5: Build the pipeline with preprocessing and model\n",
    "model = Pipeline(steps=[\n",
    "    ('scaler', StandardScaler()), \n",
    "    ('regressor', LinearRegression()) \n",
    "])\n",
    "\n",
    "# Step 6: Train the model\n",
    "model.fit(X_train, y_train)\n",
    "\n",
    "# Step 7: Make predictions on the test set\n",
    "y_pred = model.predict(X_test)\n",
    "\n",
    "# Step 8: Evaluate the model\n",
    "mse = mean_squared_error(y_test, y_pred)\n",
    "r2 = r2_score(y_test, y_pred)\n",
    "\n",
    "print(f'Mean Squared Error: {mse}')\n",
    "print(f'R-squared: {r2}')\n",
    "\n",
    "# Step 9: Example of using the model to predict on new data\n",
    "\n",
    "new_data = pd.DataFrame({\n",
    "    'Average Cost for two': [1500],\n",
    "    'Has Table booking': [1],\n",
    "    'Has Online delivery': [0],\n",
    "    'Price range': [3],\n",
    "    'Votes': [400]\n",
    "})\n",
    "\n",
    "# Make predictions on new_data\n",
    "predictions = model.predict(new_data)\n",
    "print(f'Predictions on new data Rating: {predictions }')\n",
    "\n",
    "\n",
    "\n",
    "\n",
    "\n",
    "\n",
    "\n",
    "\n",
    "\n",
    "\n",
    "# Step 7: Make predictions on the test set\n",
    "y_pred = model.predict(X_test)\n",
    "\n",
    "# Step 8: Evaluate the model\n",
    "mse = mean_squared_error(y_test, y_pred)\n",
    "r2 = r2_score(y_test, y_pred)\n",
    "\n",
    "print(f'Mean Squared Error: {mse}')\n",
    "print(f'R-squared: {r2}')\n",
    "\n"
   ]
  }
 ],
 "metadata": {
  "kernelspec": {
   "display_name": "Python 3",
   "language": "python",
   "name": "python3"
  },
  "language_info": {
   "codemirror_mode": {
    "name": "ipython",
    "version": 3
   },
   "file_extension": ".py",
   "mimetype": "text/x-python",
   "name": "python",
   "nbconvert_exporter": "python",
   "pygments_lexer": "ipython3",
   "version": "3.12.4"
  }
 },
 "nbformat": 4,
 "nbformat_minor": 2
}
